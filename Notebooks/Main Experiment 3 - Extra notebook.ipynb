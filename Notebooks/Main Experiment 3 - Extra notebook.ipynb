{
 "cells": [
  {
   "cell_type": "markdown",
   "metadata": {},
   "source": [
    "## Camera Position 2"
   ]
  },
  {
   "cell_type": "code",
   "execution_count": 1,
   "metadata": {},
   "outputs": [
    {
     "data": {
      "text/plain": [
       "0.3599999999999999"
      ]
     },
     "execution_count": 1,
     "metadata": {},
     "output_type": "execute_result"
    }
   ],
   "source": [
    "def camera_position_2_convertion(x):\n",
    "    \n",
    "    #camera on the left hand side\n",
    "    \n",
    "    if x > 565:\n",
    "        Yb = 0.36\n",
    "        Xb = 613\n",
    "        Ya = 0.55\n",
    "        Xa = 565\n",
    "\n",
    "    else:\n",
    "        Yb = 0.55\n",
    "        Xb = 565\n",
    "        Ya = 1.01\n",
    "        Xa = 344\n",
    "\n",
    "    y = x* ((Yb-Ya)/(Xb-Xa)) + (((Ya*Xb)-(Yb*Xa))/(Xb-Xa))\n",
    "\n",
    "    return y\n",
    "\n",
    "camera_position_2_convertion(613)"
   ]
  },
  {
   "cell_type": "markdown",
   "metadata": {},
   "source": [
    "## Camera position 1"
   ]
  },
  {
   "cell_type": "code",
   "execution_count": 2,
   "metadata": {
    "scrolled": true
   },
   "outputs": [
    {
     "data": {
      "text/plain": [
       "2.362285714285714"
      ]
     },
     "execution_count": 2,
     "metadata": {},
     "output_type": "execute_result"
    }
   ],
   "source": [
    "\n",
    "def camera_position_1_convertion(x):\n",
    "\n",
    "    #camera on the right hand side\n",
    "    if x < 290:\n",
    "        Yb = 0.52\n",
    "        Ya = 0.34\n",
    "        Xa = 194\n",
    "        Xb = 290\n",
    "    else:\n",
    "        Yb = 0.93\n",
    "        Xb = 465\n",
    "        Ya = 0.52\n",
    "        Xa = 290\n",
    "\n",
    "    y= x* ((Yb-Ya)/(Xb-Xa)) + (((Ya*Xb)-(Yb*Xa))/(Xb-Xa))\n",
    "    return 3.14-y\n",
    "\n",
    "camera_position_1_convertion(x = 400)"
   ]
  },
  {
   "cell_type": "markdown",
   "metadata": {},
   "source": [
    "## Importing"
   ]
  },
  {
   "cell_type": "code",
   "execution_count": 3,
   "metadata": {},
   "outputs": [],
   "source": [
    "import matplotlib.pyplot as plt\n",
    "%matplotlib inline\n",
    "import pandas as pd\n",
    "import numpy as np"
   ]
  },
  {
   "cell_type": "code",
   "execution_count": 4,
   "metadata": {},
   "outputs": [],
   "source": [
    "position_1 = pd.read_csv('person_tracking_position_1.csv')\n",
    "position_2 = pd.read_csv('person_tracking_position_2.csv')"
   ]
  },
  {
   "cell_type": "code",
   "execution_count": 5,
   "metadata": {},
   "outputs": [],
   "source": [
    "position_1 = position_1.drop(['Unnamed: 0'], axis =1)\n",
    "position_2 = position_2.drop(['Unnamed: 0'], axis =1)"
   ]
  },
  {
   "cell_type": "markdown",
   "metadata": {},
   "source": [
    "## cleaning position 1 data"
   ]
  },
  {
   "cell_type": "markdown",
   "metadata": {},
   "source": [
    "#### Due to object tracking model uncertainty, the same person can be represented by different object_id, therefore we can have 2 onbject_id representing the same person at one frame. We need to have a dataset with only one object_id and one value x and y for each frame"
   ]
  },
  {
   "cell_type": "code",
   "execution_count": 6,
   "metadata": {},
   "outputs": [],
   "source": [
    "g = position_1.groupby('frame_number')\n",
    "\n",
    "frame_list = []\n",
    "object_id_list = []\n",
    "x_cor_list = []\n",
    "y_cor_list = []\n",
    "for g_id,g_df in g:\n",
    "    frame_list.append(g_id)\n",
    "    object_id_list.append(0)\n",
    "    if len(g_df)>1:\n",
    "\n",
    "        x_cor_list.append(g_df['x-coordinate'].iloc[-1])\n",
    "        y_cor_list.append(g_df['y-coordinate'].iloc[-1])\n",
    "        \n",
    "    else:\n",
    "        x_cor_list.append(g_df['x-coordinate'].values[0])\n",
    "        y_cor_list.append(g_df['y-coordinate'].values[0])      "
   ]
  },
  {
   "cell_type": "code",
   "execution_count": 7,
   "metadata": {},
   "outputs": [],
   "source": [
    "position_1 = pd.DataFrame()\n",
    "position_1['object_id'] = object_id_list\n",
    "position_1['frame_list'] = frame_list\n",
    "position_1['x-coordinate'] = x_cor_list\n",
    "position_1['y-coordinate'] = y_cor_list"
   ]
  },
  {
   "cell_type": "code",
   "execution_count": 8,
   "metadata": {},
   "outputs": [
    {
     "data": {
      "text/html": [
       "<div>\n",
       "<style scoped>\n",
       "    .dataframe tbody tr th:only-of-type {\n",
       "        vertical-align: middle;\n",
       "    }\n",
       "\n",
       "    .dataframe tbody tr th {\n",
       "        vertical-align: top;\n",
       "    }\n",
       "\n",
       "    .dataframe thead th {\n",
       "        text-align: right;\n",
       "    }\n",
       "</style>\n",
       "<table border=\"1\" class=\"dataframe\">\n",
       "  <thead>\n",
       "    <tr style=\"text-align: right;\">\n",
       "      <th></th>\n",
       "      <th>object_id</th>\n",
       "      <th>frame_list</th>\n",
       "      <th>x-coordinate</th>\n",
       "      <th>y-coordinate</th>\n",
       "    </tr>\n",
       "  </thead>\n",
       "  <tbody>\n",
       "    <tr>\n",
       "      <th>0</th>\n",
       "      <td>0</td>\n",
       "      <td>3</td>\n",
       "      <td>401</td>\n",
       "      <td>366</td>\n",
       "    </tr>\n",
       "    <tr>\n",
       "      <th>1</th>\n",
       "      <td>0</td>\n",
       "      <td>4</td>\n",
       "      <td>398</td>\n",
       "      <td>355</td>\n",
       "    </tr>\n",
       "    <tr>\n",
       "      <th>2</th>\n",
       "      <td>0</td>\n",
       "      <td>5</td>\n",
       "      <td>412</td>\n",
       "      <td>390</td>\n",
       "    </tr>\n",
       "    <tr>\n",
       "      <th>3</th>\n",
       "      <td>0</td>\n",
       "      <td>6</td>\n",
       "      <td>412</td>\n",
       "      <td>390</td>\n",
       "    </tr>\n",
       "    <tr>\n",
       "      <th>4</th>\n",
       "      <td>0</td>\n",
       "      <td>7</td>\n",
       "      <td>408</td>\n",
       "      <td>391</td>\n",
       "    </tr>\n",
       "  </tbody>\n",
       "</table>\n",
       "</div>"
      ],
      "text/plain": [
       "   object_id  frame_list  x-coordinate  y-coordinate\n",
       "0          0           3           401           366\n",
       "1          0           4           398           355\n",
       "2          0           5           412           390\n",
       "3          0           6           412           390\n",
       "4          0           7           408           391"
      ]
     },
     "execution_count": 8,
     "metadata": {},
     "output_type": "execute_result"
    }
   ],
   "source": [
    "position_1.head()"
   ]
  },
  {
   "cell_type": "code",
   "execution_count": 9,
   "metadata": {},
   "outputs": [
    {
     "data": {
      "text/html": [
       "<div>\n",
       "<style scoped>\n",
       "    .dataframe tbody tr th:only-of-type {\n",
       "        vertical-align: middle;\n",
       "    }\n",
       "\n",
       "    .dataframe tbody tr th {\n",
       "        vertical-align: top;\n",
       "    }\n",
       "\n",
       "    .dataframe thead th {\n",
       "        text-align: right;\n",
       "    }\n",
       "</style>\n",
       "<table border=\"1\" class=\"dataframe\">\n",
       "  <thead>\n",
       "    <tr style=\"text-align: right;\">\n",
       "      <th></th>\n",
       "      <th>object_id</th>\n",
       "      <th>frame_number</th>\n",
       "      <th>x-coordinate</th>\n",
       "      <th>y-coordinate</th>\n",
       "    </tr>\n",
       "  </thead>\n",
       "  <tbody>\n",
       "    <tr>\n",
       "      <th>0</th>\n",
       "      <td>0</td>\n",
       "      <td>1</td>\n",
       "      <td>613</td>\n",
       "      <td>381</td>\n",
       "    </tr>\n",
       "    <tr>\n",
       "      <th>1</th>\n",
       "      <td>0</td>\n",
       "      <td>2</td>\n",
       "      <td>613</td>\n",
       "      <td>381</td>\n",
       "    </tr>\n",
       "    <tr>\n",
       "      <th>2</th>\n",
       "      <td>0</td>\n",
       "      <td>3</td>\n",
       "      <td>613</td>\n",
       "      <td>382</td>\n",
       "    </tr>\n",
       "    <tr>\n",
       "      <th>3</th>\n",
       "      <td>0</td>\n",
       "      <td>4</td>\n",
       "      <td>612</td>\n",
       "      <td>382</td>\n",
       "    </tr>\n",
       "    <tr>\n",
       "      <th>4</th>\n",
       "      <td>0</td>\n",
       "      <td>5</td>\n",
       "      <td>612</td>\n",
       "      <td>384</td>\n",
       "    </tr>\n",
       "  </tbody>\n",
       "</table>\n",
       "</div>"
      ],
      "text/plain": [
       "   object_id  frame_number  x-coordinate  y-coordinate\n",
       "0          0             1           613           381\n",
       "1          0             2           613           381\n",
       "2          0             3           613           382\n",
       "3          0             4           612           382\n",
       "4          0             5           612           384"
      ]
     },
     "execution_count": 9,
     "metadata": {},
     "output_type": "execute_result"
    }
   ],
   "source": [
    "position_2.head()"
   ]
  },
  {
   "cell_type": "markdown",
   "metadata": {},
   "source": [
    "#### check if there are overlapping frames"
   ]
  },
  {
   "cell_type": "code",
   "execution_count": 10,
   "metadata": {},
   "outputs": [
    {
     "data": {
      "text/plain": [
       "[]"
      ]
     },
     "execution_count": 10,
     "metadata": {},
     "output_type": "execute_result"
    }
   ],
   "source": [
    "[print('overlapping') for i in np.unique(position_2['frame_number'], return_counts=True)[1] if i>1]"
   ]
  },
  {
   "cell_type": "markdown",
   "metadata": {},
   "source": [
    "## plot x,y"
   ]
  },
  {
   "cell_type": "code",
   "execution_count": 11,
   "metadata": {},
   "outputs": [
    {
     "data": {
      "text/plain": [
       "[<matplotlib.lines.Line2D at 0x217136d7160>]"
      ]
     },
     "execution_count": 11,
     "metadata": {},
     "output_type": "execute_result"
    },
    {
     "data": {
      "image/png": "[encoded data removed]",
      "text/plain": [
       "<Figure size 432x288 with 1 Axes>"
      ]
     },
     "metadata": {
      "needs_background": "light"
     },
     "output_type": "display_data"
    }
   ],
   "source": [
    "plt.plot(position_1['x-coordinate'], position_1['y-coordinate'])"
   ]
  },
  {
   "cell_type": "code",
   "execution_count": 12,
   "metadata": {},
   "outputs": [
    {
     "data": {
      "text/plain": [
       "[<matplotlib.lines.Line2D at 0x2171376bba8>]"
      ]
     },
     "execution_count": 12,
     "metadata": {},
     "output_type": "execute_result"
    },
    {
     "data": {
      "image/png": "[encoded data removed]",
      "text/plain": [
       "<Figure size 432x288 with 1 Axes>"
      ]
     },
     "metadata": {
      "needs_background": "light"
     },
     "output_type": "display_data"
    }
   ],
   "source": [
    "plt.plot(position_2['x-coordinate'], position_2['y-coordinate'])"
   ]
  },
  {
   "cell_type": "code",
   "execution_count": 11,
   "metadata": {},
   "outputs": [
    {
     "data": {
      "text/plain": [
       "(443, 439)"
      ]
     },
     "execution_count": 11,
     "metadata": {},
     "output_type": "execute_result"
    }
   ],
   "source": [
    "len(position_1), len(position_2) giuseppe"
   ]
  },
  {
   "cell_type": "code",
   "execution_count": 15,
   "metadata": {},
   "outputs": [],
   "source": [
    "# delete frame 1 and 2 for data in position 2\n",
    "\n",
    "position_2 = position_2.drop(position_2.index[[0,1]]).copy()\n",
    "position_2 = position_2.reindex()"
   ]
  },
  {
   "cell_type": "markdown",
   "metadata": {},
   "source": [
    "## Calculate angle"
   ]
  },
  {
   "cell_type": "code",
   "execution_count": 17,
   "metadata": {},
   "outputs": [],
   "source": [
    "angles_position_1 = [camera_position_1_convertion(x) for x in position_1['x-coordinate']]\n",
    "angles_position_2 = [camera_position_2_convertion(x) for x in position_2['x-coordinate']]"
   ]
  },
  {
   "cell_type": "code",
   "execution_count": 18,
   "metadata": {},
   "outputs": [],
   "source": [
    "position_1['angle'] = angles_position_1\n",
    "position_2['angle'] = angles_position_2"
   ]
  },
  {
   "cell_type": "code",
   "execution_count": 19,
   "metadata": {},
   "outputs": [
    {
     "data": {
      "text/plain": [
       "(0.3599999999999999, 2.3599428571428573)"
      ]
     },
     "execution_count": 19,
     "metadata": {},
     "output_type": "execute_result"
    }
   ],
   "source": [
    "angles_position_2[0], angles_position_1[0]"
   ]
  },
  {
   "cell_type": "code",
   "execution_count": 20,
   "metadata": {},
   "outputs": [
    {
     "data": {
      "text/plain": [
       "135.28334849863512"
      ]
     },
     "execution_count": 20,
     "metadata": {},
     "output_type": "execute_result"
    }
   ],
   "source": [
    "def radian_to_degree(x):\n",
    "    return (x * 180)/3.14\n",
    "\n",
    "def degree_to_radian(x):\n",
    "    return (x * 3.14)/180\n",
    "\n",
    "radian_to_degree(angles_position_2[0])\n",
    "radian_to_degree(angles_position_1[0])"
   ]
  },
  {
   "cell_type": "code",
   "execution_count": 21,
   "metadata": {},
   "outputs": [
    {
     "data": {
      "text/plain": [
       "(443, 437)"
      ]
     },
     "execution_count": 21,
     "metadata": {},
     "output_type": "execute_result"
    }
   ],
   "source": [
    "len(position_1), len(position_2)"
   ]
  },
  {
   "cell_type": "markdown",
   "metadata": {},
   "source": [
    "#### select only 1 frame every 15. The camera returned 30 frames each seconds. Therefore the distance in time between frames (taking one frame every 15) will be 0.5 seconds"
   ]
  },
  {
   "cell_type": "code",
   "execution_count": 22,
   "metadata": {},
   "outputs": [
    {
     "data": {
      "text/plain": [
       "29"
      ]
     },
     "execution_count": 22,
     "metadata": {},
     "output_type": "execute_result"
    }
   ],
   "source": [
    "z_1 = []\n",
    "for i in range(16,len(position_1),15):\n",
    "    z_1.append(position_1['angle'][i-15:i].mean())\n",
    "len(z_1)"
   ]
  },
  {
   "cell_type": "code",
   "execution_count": 23,
   "metadata": {},
   "outputs": [
    {
     "data": {
      "text/plain": [
       "29"
      ]
     },
     "execution_count": 23,
     "metadata": {},
     "output_type": "execute_result"
    }
   ],
   "source": [
    "z_1 = z_1[:29]\n",
    "len(z_1)"
   ]
  },
  {
   "cell_type": "code",
   "execution_count": 24,
   "metadata": {},
   "outputs": [
    {
     "data": {
      "text/plain": [
       "29"
      ]
     },
     "execution_count": 24,
     "metadata": {},
     "output_type": "execute_result"
    }
   ],
   "source": [
    "z_2 = []\n",
    "for i in range(16,len(position_2),15):\n",
    "    z_2.append(position_2['angle'][i-15:i].mean())\n",
    "len(z_2)"
   ]
  },
  {
   "cell_type": "code",
   "execution_count": 25,
   "metadata": {},
   "outputs": [
    {
     "data": {
      "text/plain": [
       "0.8799788838612365"
      ]
     },
     "execution_count": 25,
     "metadata": {},
     "output_type": "execute_result"
    }
   ],
   "source": [
    "z_2[6]"
   ]
  },
  {
   "cell_type": "markdown",
   "metadata": {},
   "source": [
    "## Uncented Kalman filters"
   ]
  },
  {
   "cell_type": "code",
   "execution_count": 26,
   "metadata": {},
   "outputs": [],
   "source": [
    "import math\n",
    "from filterpy.kalman import MerweScaledSigmaPoints\n",
    "from filterpy.kalman import UnscentedKalmanFilter as UKF\n",
    "from filterpy.common import Q_discrete_white_noise\n",
    "from numpy.random import randn"
   ]
  },
  {
   "cell_type": "code",
   "execution_count": 27,
   "metadata": {},
   "outputs": [],
   "source": [
    "def bearing(sensor, target_pos):\n",
    "    '''given the sensor position and the target position calculate the angle.\n",
    "    m = (y2-y1)/(x2 - x1) than teta = arctan(m)'''\n",
    "    \n",
    "    return math.atan2(target_pos[1] - sensor[1], \n",
    "                      target_pos[0] - sensor[0])"
   ]
  },
  {
   "cell_type": "code",
   "execution_count": 28,
   "metadata": {},
   "outputs": [],
   "source": [
    "def measurement(A_pos, B_pos, pos):\n",
    "    '''given the positions of the two sensors, and the expected position of the target, \n",
    "    this function return the angle of the target respect to the two sensor.\n",
    "    A_pos is the sensor at the left position, B_pos is the sensor at the right position.\n",
    "    The angles are calculated in radian and the origin of the angle is the axes x.'''\n",
    "    \n",
    "    angle_a = bearing(A_pos, pos)\n",
    "    angle_b = bearing(B_pos, pos)\n",
    "    return [angle_a, angle_b]"
   ]
  },
  {
   "cell_type": "code",
   "execution_count": 59,
   "metadata": {},
   "outputs": [],
   "source": [
    "def fx_VOR(x, dt, u):\n",
    "    '''this function predict the next position of the target, given the actual position and the u'''\n",
    "\n",
    "    current_x = x[0] \n",
    "    current_y = x[2]\n",
    "    \n",
    "    next_position = estimate_next_position([current_x, current_y], u)\n",
    "\n",
    "    x[1] = abs(next_position[0] - current_x) / 100 / dt #transform cm to m\n",
    "    \n",
    "    x[3] = abs(next_position[1] - current_y) / 100 / dt \n",
    "    \n",
    "    \n",
    "    x[0] = next_position[0]\n",
    "    x[2] = next_position[1]\n",
    "    return x"
   ]
  },
  {
   "cell_type": "code",
   "execution_count": 60,
   "metadata": {},
   "outputs": [],
   "source": [
    "sa_pos = [-323, 0]\n",
    "sb_pos = [350, 0]\n",
    "\n",
    "def hx_VOR(x):\n",
    "    \n",
    "    '''after predict the position, hx_VOR return the angle in respect of the sensors'''\n",
    "    # measurement to A\n",
    "    pos = (x[0], x[2])\n",
    "    #print('pos: '+str(pos))\n",
    "    #print(measurement(sa_pos, sb_pos, pos))\n",
    "    #print('measurement: ' + str(measurement(sa_pos, sb_pos, pos)))\n",
    "    return measurement(sa_pos, sb_pos, pos)"
   ]
  },
  {
   "cell_type": "code",
   "execution_count": 61,
   "metadata": {},
   "outputs": [],
   "source": [
    "def intercept_between_two_line(s2, s1):\n",
    "    \n",
    "    '''given the position of the sensor and the angles calculated previously.\n",
    "    This function create to virtual stright line and calculate and return the point of intercept'''\n",
    "    \n",
    "    #s1 is the position on the right\n",
    "    #s2 is the position on the left\n",
    "    \n",
    "    #z1 is the position on the right\n",
    "    #z2 is the position on the left\n",
    "    \n",
    "    \n",
    "    #print('s1: {} s2: {}'.format(s1,s2))\n",
    "    m1 = np.tan(degree_to_radian(radian_to_degree(s1)))\n",
    "    c1 = sb_pos[1] - sb_pos[0] * m1 \n",
    "    \n",
    "    m2 = np.tan(s2)\n",
    "    c2 = sa_pos[1] - sa_pos[0] * m2 \n",
    "        \n",
    "    x = (c2 - c1)/(m1 - m2)\n",
    "    y = (x * m1) + c1\n",
    "    \n",
    "    #print('x: {} , y: {}'.format(x,y))\n",
    "    return x, y   "
   ]
  },
  {
   "cell_type": "code",
   "execution_count": 62,
   "metadata": {},
   "outputs": [],
   "source": [
    "def callculate_u(previous_x, previous_y , current_positions, dt):\n",
    "    \n",
    "    '''from the real measurement (z), we calculate the u vector, which represent the distance and the direction of our target'''\n",
    "    \n",
    "    delta_x = previous_x- current_positions[0]\n",
    "    delta_y = previous_y- current_positions[1]\n",
    "    \n",
    "    m = delta_y/delta_x\n",
    "    \n",
    "    distance = np.sqrt(delta_x**2 + delta_y**2)\n",
    "\n",
    "    \n",
    "    direction = np.arctan(m)\n",
    "    \n",
    "    if (current_positions[1] >previous_y) & (current_positions[0] >previous_x): \n",
    "    \n",
    "        temp = radian_to_degree(direction)\n",
    "        return [distance, temp]\n",
    "    \n",
    "    elif (current_positions[1] >previous_y) & (current_positions[0] < previous_x):\n",
    "        temp = 180 + radian_to_degree(direction)\n",
    "        return [distance, temp]   \n",
    "    \n",
    "    elif (current_positions[1] <previous_y) & (current_positions[0] < previous_x):\n",
    "        temp = 180 + radian_to_degree(direction)\n",
    "        return [distance, temp] \n",
    "    elif (current_positions[1] <previous_y) & (current_positions[0] > previous_x):\n",
    "        temp = 360 + radian_to_degree(direction)\n",
    "        return [distance, temp]\n"
   ]
  },
  {
   "cell_type": "code",
   "execution_count": 63,
   "metadata": {},
   "outputs": [],
   "source": [
    "def estimate_next_position(current_position, u):\n",
    "\n",
    "    '''given the actual position of the target, and given the vector u with distance and angle, \n",
    "    this function return the next position'''\n",
    "    \n",
    "    x = current_position[0]\n",
    "    y = current_position[1]\n",
    "    \n",
    "    y_delta = np.sin(degree_to_radian(u[1])) * u[0]\n",
    "    x_delta = np.cos(degree_to_radian(u[1])) * u[0]\n",
    "    \n",
    "    return [x+x_delta, y + y_delta]     "
   ]
  },
  {
   "cell_type": "code",
   "execution_count": 64,
   "metadata": {},
   "outputs": [],
   "source": [
    "def moving_target_filter(pos, std_noise, Q, dt, kappa=0.0):\n",
    "    '''step to create the initialize the unscented kalman filters'''\n",
    "    \n",
    "    points = MerweScaledSigmaPoints(n=4, alpha=.1, beta=2., kappa=kappa)\n",
    "    f = UKF(dim_x=4, dim_z=2, dt=dt, \n",
    "            hx=hx_VOR, fx=fx_VOR, points=points)\n",
    "    f.x = np.array([pos[0], 1., pos[1], 1.])\n",
    "\n",
    "    q = Q_discrete_white_noise(2, dt, Q)\n",
    "    f.Q[0:2, 0:2] = q\n",
    "    f.Q[2:4, 2:4] = q\n",
    "    f.R *= std_noise**2\n",
    "    f.P *= 200    \n",
    "    return f\n",
    "\n",
    "def plot_straight_line_target(f, std_noise, previous_position_x, previous_position_y):\n",
    "    \n",
    "    xs, txs = [], []    \n",
    "    \n",
    "    txs.append((previous_position_x, previous_position_y))    \n",
    "\n",
    "    for i in range(29):\n",
    "\n",
    "        z = [z_2[i], z_1[i]] \n",
    "\n",
    " \n",
    "        temp_position_x, temp_position_y = intercept_between_two_line(z_2[i], z_1[i])\n",
    "        \n",
    "        current_target_position = [temp_position_x, temp_position_y]\n",
    "\n",
    "        txs.append((temp_position_x, temp_position_y))\n",
    "        \n",
    "        u = callculate_u(previous_position_x, previous_position_y, current_target_position, 0.06)\n",
    "        \n",
    "        \n",
    "        previous_position_x = temp_position_x\n",
    "        previous_position_y = temp_position_y\n",
    "\n",
    "        f.predict(u=u)\n",
    "\n",
    "        f.update(z)\n",
    "        xs.append(f.x)\n",
    "                    \n",
    "    xs = np.asarray(xs)\n",
    "    txs = np.asarray(txs)\n",
    "    #print(xs)\n",
    "    plt.plot(xs[:, 0], xs[:, 2])\n",
    "    plt.plot(txs[:, 0], txs[:, 1], ls='--', lw=2, c='k')\n",
    "    plt.show()\n",
    "    return xs, txs"
   ]
  },
  {
   "cell_type": "code",
   "execution_count": 65,
   "metadata": {},
   "outputs": [
    {
     "data": {
      "image/png": "[encoded data removed]",
      "text/plain": [
       "<Figure size 432x288 with 1 Axes>"
      ]
     },
     "metadata": {
      "needs_background": "light"
     },
     "output_type": "display_data"
    }
   ],
   "source": [
    "np.random.seed(123)\n",
    "target_pos = [200, 200]\n",
    "\n",
    "std_noise = math.radians(0.5)\n",
    "dt = 0.5\n",
    "Q=1.0\n",
    "f = moving_target_filter(target_pos, std_noise, Q , dt)\n",
    "xs, txs = plot_straight_line_target(f, std_noise, target_pos[0], target_pos[1])"
   ]
  },
  {
   "cell_type": "code",
   "execution_count": 66,
   "metadata": {},
   "outputs": [],
   "source": [
    "df_kalman = pd.DataFrame(xs)\n",
    "df_kalman.columns = ['x', 'vel_x', 'y', 'vel_y']"
   ]
  },
  {
   "cell_type": "code",
   "execution_count": 68,
   "metadata": {},
   "outputs": [
    {
     "data": {
      "text/html": [
       "<div>\n",
       "<style scoped>\n",
       "    .dataframe tbody tr th:only-of-type {\n",
       "        vertical-align: middle;\n",
       "    }\n",
       "\n",
       "    .dataframe tbody tr th {\n",
       "        vertical-align: top;\n",
       "    }\n",
       "\n",
       "    .dataframe thead th {\n",
       "        text-align: right;\n",
       "    }\n",
       "</style>\n",
       "<table border=\"1\" class=\"dataframe\">\n",
       "  <thead>\n",
       "    <tr style=\"text-align: right;\">\n",
       "      <th></th>\n",
       "      <th>x</th>\n",
       "      <th>vel_x</th>\n",
       "      <th>y</th>\n",
       "      <th>vel_y</th>\n",
       "    </tr>\n",
       "  </thead>\n",
       "  <tbody>\n",
       "    <tr>\n",
       "      <th>0</th>\n",
       "      <td>140.354023</td>\n",
       "      <td>1.192758</td>\n",
       "      <td>203.072452</td>\n",
       "      <td>0.063246</td>\n",
       "    </tr>\n",
       "    <tr>\n",
       "      <th>1</th>\n",
       "      <td>70.432590</td>\n",
       "      <td>1.398650</td>\n",
       "      <td>219.571984</td>\n",
       "      <td>0.331286</td>\n",
       "    </tr>\n",
       "    <tr>\n",
       "      <th>2</th>\n",
       "      <td>3.470409</td>\n",
       "      <td>1.339670</td>\n",
       "      <td>215.064396</td>\n",
       "      <td>0.088996</td>\n",
       "    </tr>\n",
       "    <tr>\n",
       "      <th>3</th>\n",
       "      <td>-30.247111</td>\n",
       "      <td>0.674603</td>\n",
       "      <td>212.559787</td>\n",
       "      <td>0.049304</td>\n",
       "    </tr>\n",
       "    <tr>\n",
       "      <th>4</th>\n",
       "      <td>-77.857636</td>\n",
       "      <td>0.952568</td>\n",
       "      <td>207.045298</td>\n",
       "      <td>0.109547</td>\n",
       "    </tr>\n",
       "  </tbody>\n",
       "</table>\n",
       "</div>"
      ],
      "text/plain": [
       "            x     vel_x           y     vel_y\n",
       "0  140.354023  1.192758  203.072452  0.063246\n",
       "1   70.432590  1.398650  219.571984  0.331286\n",
       "2    3.470409  1.339670  215.064396  0.088996\n",
       "3  -30.247111  0.674603  212.559787  0.049304\n",
       "4  -77.857636  0.952568  207.045298  0.109547"
      ]
     },
     "execution_count": 68,
     "metadata": {},
     "output_type": "execute_result"
    }
   ],
   "source": [
    "df_kalman.head()"
   ]
  },
  {
   "cell_type": "code",
   "execution_count": 78,
   "metadata": {},
   "outputs": [
    {
     "data": {
      "image/png": "[encoded data removed]",
      "text/plain": [
       "<Figure size 1080x720 with 1 Axes>"
      ]
     },
     "metadata": {
      "needs_background": "light"
     },
     "output_type": "display_data"
    }
   ],
   "source": [
    "f = plt.figure(figsize=[15,10])\n",
    "f = plt.plot(range(len(df_kalman)), df_kalman['vel_x'], label = 'velocity axes x')\n",
    "f = plt.plot(range(len(df_kalman)), df_kalman['vel_y'], label = 'velocity axes y')\n",
    "f = plt.legend(loc='upper right')\n",
    "f = plt.xlabel('Frame')\n",
    "f = plt.ylabel('Speed in m/s')\n",
    "f = plt.xticks(range(len(df_kalman)))"
   ]
  },
  {
   "cell_type": "markdown",
   "metadata": {},
   "source": [
    "### Calculate tot velocity "
   ]
  },
  {
   "cell_type": "code",
   "execution_count": 93,
   "metadata": {},
   "outputs": [
    {
     "data": {
      "text/html": [
       "<div>\n",
       "<style scoped>\n",
       "    .dataframe tbody tr th:only-of-type {\n",
       "        vertical-align: middle;\n",
       "    }\n",
       "\n",
       "    .dataframe tbody tr th {\n",
       "        vertical-align: top;\n",
       "    }\n",
       "\n",
       "    .dataframe thead th {\n",
       "        text-align: right;\n",
       "    }\n",
       "</style>\n",
       "<table border=\"1\" class=\"dataframe\">\n",
       "  <thead>\n",
       "    <tr style=\"text-align: right;\">\n",
       "      <th></th>\n",
       "      <th>x</th>\n",
       "      <th>vel_x</th>\n",
       "      <th>y</th>\n",
       "      <th>vel_y</th>\n",
       "      <th>velocity</th>\n",
       "    </tr>\n",
       "  </thead>\n",
       "  <tbody>\n",
       "    <tr>\n",
       "      <th>0</th>\n",
       "      <td>140.354023</td>\n",
       "      <td>1.192758</td>\n",
       "      <td>203.072452</td>\n",
       "      <td>0.063246</td>\n",
       "      <td>1.194501</td>\n",
       "    </tr>\n",
       "    <tr>\n",
       "      <th>1</th>\n",
       "      <td>70.432590</td>\n",
       "      <td>1.398650</td>\n",
       "      <td>219.571984</td>\n",
       "      <td>0.331286</td>\n",
       "      <td>1.436836</td>\n",
       "    </tr>\n",
       "    <tr>\n",
       "      <th>2</th>\n",
       "      <td>3.470409</td>\n",
       "      <td>1.339670</td>\n",
       "      <td>215.064396</td>\n",
       "      <td>0.088996</td>\n",
       "      <td>1.342274</td>\n",
       "    </tr>\n",
       "    <tr>\n",
       "      <th>3</th>\n",
       "      <td>-30.247111</td>\n",
       "      <td>0.674603</td>\n",
       "      <td>212.559787</td>\n",
       "      <td>0.049304</td>\n",
       "      <td>0.676208</td>\n",
       "    </tr>\n",
       "    <tr>\n",
       "      <th>4</th>\n",
       "      <td>-77.857636</td>\n",
       "      <td>0.952568</td>\n",
       "      <td>207.045298</td>\n",
       "      <td>0.109547</td>\n",
       "      <td>0.958576</td>\n",
       "    </tr>\n",
       "  </tbody>\n",
       "</table>\n",
       "</div>"
      ],
      "text/plain": [
       "            x     vel_x           y     vel_y  velocity\n",
       "0  140.354023  1.192758  203.072452  0.063246  1.194501\n",
       "1   70.432590  1.398650  219.571984  0.331286  1.436836\n",
       "2    3.470409  1.339670  215.064396  0.088996  1.342274\n",
       "3  -30.247111  0.674603  212.559787  0.049304  0.676208\n",
       "4  -77.857636  0.952568  207.045298  0.109547  0.958576"
      ]
     },
     "execution_count": 93,
     "metadata": {},
     "output_type": "execute_result"
    }
   ],
   "source": [
    "from math import sqrt\n",
    "initial_position_target = target_pos\n",
    "dt = 0.5\n",
    "velocity = []\n",
    "for row in range(len(df_kalman)):\n",
    "    x = df_kalman['x'][row]\n",
    "    y = df_kalman['y'][row]\n",
    "    if row ==0:\n",
    "        previous_x = initial_position_target[0]\n",
    "        previous_y = initial_position_target[1]\n",
    "    else:\n",
    "        previous_x = df_kalman['x'][row -1]\n",
    "        previous_y = df_kalman['y'][row -1]\n",
    "    distance = sqrt((x - previous_x)**2 + (y - previous_y)**2)\n",
    "    velocity.append(distance/100/dt)\n",
    "    \n",
    "df_kalman['velocity'] = velocity\n",
    "df_kalman.head()"
   ]
  },
  {
   "cell_type": "code",
   "execution_count": 94,
   "metadata": {},
   "outputs": [
    {
     "data": {
      "image/png": "[encoded data removed]",
      "text/plain": [
       "<Figure size 1080x720 with 1 Axes>"
      ]
     },
     "metadata": {
      "needs_background": "light"
     },
     "output_type": "display_data"
    }
   ],
   "source": [
    "f = plt.figure(figsize=[15,10])\n",
    "f = plt.plot(range(len(df_kalman)), df_kalman['velocity'])\n",
    "f = plt.xlabel('Frame')\n",
    "f = plt.ylabel('Speed in m/s')\n",
    "f = plt.xticks(range(len(df_kalman)))"
   ]
  },
  {
   "cell_type": "code",
   "execution_count": null,
   "metadata": {},
   "outputs": [],
   "source": []
  }
 ],
 "metadata": {
  "kernelspec": {
   "display_name": "Python 3",
   "language": "python",
   "name": "python3"
  },
  "language_info": {
   "codemirror_mode": {
    "name": "ipython",
    "version": 3
   },
   "file_extension": ".py",
   "mimetype": "text/x-python",
   "name": "python",
   "nbconvert_exporter": "python",
   "pygments_lexer": "ipython3",
   "version": "3.7.3"
  }
 },
 "nbformat": 4,
 "nbformat_minor": 2
}
